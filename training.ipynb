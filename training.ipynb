{
  "cells": [
    {
      "cell_type": "code",
      "source": [
        "! pip install openai"
      ],
      "metadata": {
        "id": "dwAnZ7CFVSCz",
        "colab": {
          "base_uri": "https://localhost:8080/"
        },
        "outputId": "d71237bc-7d70-4c1c-a4e6-346cd73c82da"
      },
      "execution_count": 1,
      "outputs": [
        {
          "output_type": "stream",
          "name": "stdout",
          "text": [
            "Collecting openai\n",
            "  Downloading openai-1.43.0-py3-none-any.whl.metadata (22 kB)\n",
            "Requirement already satisfied: anyio<5,>=3.5.0 in /usr/local/lib/python3.10/dist-packages (from openai) (3.7.1)\n",
            "Requirement already satisfied: distro<2,>=1.7.0 in /usr/lib/python3/dist-packages (from openai) (1.7.0)\n",
            "Collecting httpx<1,>=0.23.0 (from openai)\n",
            "  Downloading httpx-0.27.2-py3-none-any.whl.metadata (7.1 kB)\n",
            "Collecting jiter<1,>=0.4.0 (from openai)\n",
            "  Downloading jiter-0.5.0-cp310-cp310-manylinux_2_17_x86_64.manylinux2014_x86_64.whl.metadata (3.6 kB)\n",
            "Requirement already satisfied: pydantic<3,>=1.9.0 in /usr/local/lib/python3.10/dist-packages (from openai) (2.8.2)\n",
            "Requirement already satisfied: sniffio in /usr/local/lib/python3.10/dist-packages (from openai) (1.3.1)\n",
            "Requirement already satisfied: tqdm>4 in /usr/local/lib/python3.10/dist-packages (from openai) (4.66.5)\n",
            "Requirement already satisfied: typing-extensions<5,>=4.11 in /usr/local/lib/python3.10/dist-packages (from openai) (4.12.2)\n",
            "Requirement already satisfied: idna>=2.8 in /usr/local/lib/python3.10/dist-packages (from anyio<5,>=3.5.0->openai) (3.8)\n",
            "Requirement already satisfied: exceptiongroup in /usr/local/lib/python3.10/dist-packages (from anyio<5,>=3.5.0->openai) (1.2.2)\n",
            "Requirement already satisfied: certifi in /usr/local/lib/python3.10/dist-packages (from httpx<1,>=0.23.0->openai) (2024.7.4)\n",
            "Collecting httpcore==1.* (from httpx<1,>=0.23.0->openai)\n",
            "  Downloading httpcore-1.0.5-py3-none-any.whl.metadata (20 kB)\n",
            "Collecting h11<0.15,>=0.13 (from httpcore==1.*->httpx<1,>=0.23.0->openai)\n",
            "  Downloading h11-0.14.0-py3-none-any.whl.metadata (8.2 kB)\n",
            "Requirement already satisfied: annotated-types>=0.4.0 in /usr/local/lib/python3.10/dist-packages (from pydantic<3,>=1.9.0->openai) (0.7.0)\n",
            "Requirement already satisfied: pydantic-core==2.20.1 in /usr/local/lib/python3.10/dist-packages (from pydantic<3,>=1.9.0->openai) (2.20.1)\n",
            "Downloading openai-1.43.0-py3-none-any.whl (365 kB)\n",
            "\u001b[2K   \u001b[90m━━━━━━━━━━━━━━━━━━━━━━━━━━━━━━━━━━━━━━━━\u001b[0m \u001b[32m365.7/365.7 kB\u001b[0m \u001b[31m14.3 MB/s\u001b[0m eta \u001b[36m0:00:00\u001b[0m\n",
            "\u001b[?25hDownloading httpx-0.27.2-py3-none-any.whl (76 kB)\n",
            "\u001b[2K   \u001b[90m━━━━━━━━━━━━━━━━━━━━━━━━━━━━━━━━━━━━━━━━\u001b[0m \u001b[32m76.4/76.4 kB\u001b[0m \u001b[31m3.8 MB/s\u001b[0m eta \u001b[36m0:00:00\u001b[0m\n",
            "\u001b[?25hDownloading httpcore-1.0.5-py3-none-any.whl (77 kB)\n",
            "\u001b[2K   \u001b[90m━━━━━━━━━━━━━━━━━━━━━━━━━━━━━━━━━━━━━━━━\u001b[0m \u001b[32m77.9/77.9 kB\u001b[0m \u001b[31m3.4 MB/s\u001b[0m eta \u001b[36m0:00:00\u001b[0m\n",
            "\u001b[?25hDownloading jiter-0.5.0-cp310-cp310-manylinux_2_17_x86_64.manylinux2014_x86_64.whl (318 kB)\n",
            "\u001b[2K   \u001b[90m━━━━━━━━━━━━━━━━━━━━━━━━━━━━━━━━━━━━━━━━\u001b[0m \u001b[32m318.9/318.9 kB\u001b[0m \u001b[31m12.7 MB/s\u001b[0m eta \u001b[36m0:00:00\u001b[0m\n",
            "\u001b[?25hDownloading h11-0.14.0-py3-none-any.whl (58 kB)\n",
            "\u001b[2K   \u001b[90m━━━━━━━━━━━━━━━━━━━━━━━━━━━━━━━━━━━━━━━━\u001b[0m \u001b[32m58.3/58.3 kB\u001b[0m \u001b[31m3.8 MB/s\u001b[0m eta \u001b[36m0:00:00\u001b[0m\n",
            "\u001b[?25hInstalling collected packages: jiter, h11, httpcore, httpx, openai\n",
            "Successfully installed h11-0.14.0 httpcore-1.0.5 httpx-0.27.2 jiter-0.5.0 openai-1.43.0\n"
          ]
        }
      ]
    },
    {
      "cell_type": "code",
      "source": [
        "API_KEY = \"REPLACE-ME\""
      ],
      "metadata": {
        "id": "wKDQLIp4VV6n"
      },
      "execution_count": 2,
      "outputs": []
    },
    {
      "cell_type": "code",
      "source": [
        "from openai import OpenAI\n",
        "from pydantic import BaseModel\n",
        "from IPython.display import Markdown\n",
        "\n",
        "client = OpenAI(api_key=API_KEY)\n",
        "\n",
        "\n",
        "class EvaluationResponse(BaseModel):\n",
        "    assessment: str\n",
        "    score: float\n",
        "    feedback: str\n",
        "\n",
        "def show_result(result):\n",
        "    print(\"ASSESSMENT\")\n",
        "    display(Markdown(result.assessment))\n",
        "\n",
        "    print()\n",
        "    print(\"FEEDBACK\")\n",
        "    display(Markdown(result.feedback))\n",
        "\n",
        "    print()\n",
        "    print(\"SCORE\")\n",
        "    display(Markdown(str(result.score)))\n",
        "\n",
        "\n",
        "def read_txt_file(filename):\n",
        "  try:\n",
        "    with open(filename, 'r') as file:\n",
        "      content = file.read()\n",
        "    return content\n",
        "  except FileNotFoundError:\n",
        "    print(f\"File not found: {filename}\")\n",
        "    return None\n",
        "\n",
        "\n",
        "def generate_messages(essay_text, reference_answer):\n",
        "    system_prompt = f\"\"\"\n",
        "        Kamu adalah guru AI yang bertugas untuk mengecek dan menilai jawaban esai murid-murid.\n",
        "        Tugasmu adalah memberikan penilaian yang objektif berdasarkan kesesuaian jawaban murid dengan soal yang diberikan.\n",
        "        Berikut ini adalah beberapa aturan yang harus kamu ikuti saat memberikan penilaian:\n",
        "        1. Relevansi Konten: Pastikan jawaban murid sesuai dengan pertanyaan yang diajukan. Jawaban yang sangat relevan dengan soal harus mendapatkan nilai tinggi, sedangkan jawaban yang tidak relevan harus mendapatkan nilai rendah.\n",
        "        2. Kedalaman Argumen: Evaluasi apakah murid memberikan penjelasan yang mendalam dan argumentasi yang kuat. Jawaban yang mencakup detail penting dan menunjukkan pemahaman mendalam harus mendapat nilai tinggi.\n",
        "        3. Kejelasan dan Ketepatan: Nilai jawaban berdasarkan seberapa jelas dan tepat informasi yang disampaikan. Jawaban yang jelas, terstruktur dengan baik, dan bebas dari kesalahan konseptual harus mendapat nilai tinggi.\n",
        "        4. Penggunaan Contoh: Pertimbangkan apakah murid menggunakan contoh yang relevan untuk mendukung argumennya. Penggunaan contoh yang tepat akan meningkatkan nilai.\n",
        "        5. Tata Bahasa dan Penulisan: Meskipun tidak menjadi kriteria utama, jawaban yang bebas dari kesalahan tata bahasa dan penulisan akan mendapat poin tambahan.\n",
        "        6. Skala Penilaian: Berikan nilai pada skala 0 - 10. Nilai 0 diberikan jika jawaban tidak sesuai sama sekali dengan soal, sedangkan nilai 10 diberikan untuk jawaban yang sangat sesuai, mendalam, dan jelas.\n",
        "\n",
        "        Setelah mengevaluasi jawaban berdasarkan kriteria di atas, berikan penilaian setiap jawaban, nilai akhir, dan berikan sedikit feedback atau alasan mengapa jawaban tersebut mendapatkan nilai tersebut.\n",
        "\n",
        "        *assessment*:\n",
        "        ini berisi penilaian dari semua jawaban murid dengan format sebagai berikut:\n",
        "        **Soal 1**: Nilai: (0 - 10)/10. feedback singkat mengenai apa yang baik dan apa yang bisa ditingkatkan dalam jawaban ini.\\n\n",
        "        **Soal 2**: Nilai: (0 - 10)/10. feedback singkat mengenai apa yang baik dan apa yang bisa ditingkatkan dalam jawaban ini.\\n\n",
        "        Contoh assessment:\n",
        "        **Soal 1**: Nilai: 6/10. Jawaban menjelaskan konsep dasar OOP dengan singkat, tetapi tidak mencakup semua konsep penting seperti polymorphism dan abstraction. Nilai: 6/10 \\n\n",
        "        **Soal 2**: Nilai: 6/10. Jawaban cukup mendasar dan kurang mendalam, hanya menyebutkan pentingnya tanpa contoh konkret. Nilai: 6/10 \\n\n",
        "        **Soal 3**: Nilai: 5/10. Penjelasan sangat singkat dan kurang detail tentang kapan masing-masing paradigma lebih sesuai digunakan. Nilai: 5/10 \\n\n",
        "\n",
        "        *score*\n",
        "        ini berisi nilai akhir dari semua jawaban murid dari 0 - 10 berupa float\n",
        "        Contoh score:\n",
        "        5.6\n",
        "\n",
        "        *feedback*\n",
        "        ini berisi sedikit ringkasan feedback dari semua jawaban murid\n",
        "        Contoh feedback:\n",
        "        Jawaban ini menunjukkan pemahaman yang solid tentang berbagai konsep pemrograman. Meskipun ada beberapa penjelasan yang bisa diperdalam, umumnya jawaban sangat relevan dengan pertanyaan dan menggunakan bahasa yang jelas dan mudah dipahami. Beberapa bagian bisa lebih terperinci untuk mengangkat kualitas jawaban.\n",
        "\n",
        "        Gunakan bahasa indonesia\n",
        "\n",
        "        Ini adalah soal beserta jawaban yang bisa kamu gunakan sebagai pengetahuan kamu dan referensi untuk kamu memberikan penilaian:\n",
        "        {reference_answer}\n",
        "\n",
        "        Nantinya saya akan memberikan jawaban murid ke kamu\n",
        "    \"\"\"\n",
        "    return [\n",
        "        {\"role\": \"system\", \"content\": system_prompt},\n",
        "        {\"role\": \"user\", \"content\": essay_text},\n",
        "    ]\n",
        "\n",
        "\n",
        "def evaluate_essay(essay_text, reference_answer):\n",
        "    try:\n",
        "        messages = generate_messages(essay_text, reference_answer)\n",
        "        response = client.beta.chat.completions.parse(\n",
        "            model=\"gpt-4o-mini\",\n",
        "            messages=messages,\n",
        "            response_format=EvaluationResponse,\n",
        "        )\n",
        "\n",
        "        return response.choices[0].message.parsed\n",
        "    except Exception as exception:\n",
        "        print(f\"Error {type(exception)} occured: {exception}\")\n",
        "        raise exception\n"
      ],
      "metadata": {
        "id": "PUU3h6hxWgMp"
      },
      "execution_count": 51,
      "outputs": []
    },
    {
      "cell_type": "code",
      "source": [
        "reference_answer = read_txt_file(\"/content/soal dan jawaban.txt\")"
      ],
      "metadata": {
        "id": "vnwItkvUXDBq"
      },
      "execution_count": 52,
      "outputs": []
    },
    {
      "cell_type": "code",
      "source": [
        "print(\"Student 1\")\n",
        "print()\n",
        "student_answer = read_txt_file(\"/content/jawaban1.txt\")\n",
        "show_result(evaluate_essay(student_answer, reference_answer))"
      ],
      "metadata": {
        "colab": {
          "base_uri": "https://localhost:8080/",
          "height": 645
        },
        "id": "DWaNhSe9aqvP",
        "outputId": "9e4f1675-9be6-4953-e28c-f2a794bcfc03"
      },
      "execution_count": 53,
      "outputs": [
        {
          "output_type": "stream",
          "name": "stdout",
          "text": [
            "Student 1\n",
            "\n",
            "ASSESSMENT\n"
          ]
        },
        {
          "output_type": "display_data",
          "data": {
            "text/plain": [
              "<IPython.core.display.Markdown object>"
            ],
            "text/markdown": "**Soal 1**: Nilai: 8/10. Jawaban cukup baik menjelaskan konsep dasar OOP dan membandingkannya dengan pemrograman prosedural, tetapi kurang mendalam dalam penjelasan mengenai polymorphism dan abstraction. Contoh yang diberikan juga kurang mencolok. \n\n**Soal 2**: Nilai: 8/10. Penjelasan mengenai pentingnya algoritma dan struktur data sangat baik dan langsung to the point, dengan contoh yang relevan. Meski begitu, bisa digali lebih dalam mengenai dampak pilihan struktur data. \n\n**Soal 3**: Nilai: 7/10. Menjelaskan dengan baik perbedaan antara pemrograman fungsional dan OOP, namun bisa lebih mendalam dalam menekankan skenario di mana masing-masing paradigma akan lebih diutamakan. \n\n**Soal 4**: Nilai: 9/10. Jawaban menjelaskan dengan jelas pentingnya error handling dan memberikan contoh yang relevan. Penjelasan debugging juga cukup solid. Hanya sedikit ruang untuk meningkatkan kedalaman. \n\n**Soal 5**: Nilai: 8/10. Penjelasan mengenai arsitektur aplikasi web dan peran frontend serta backend cukup jelas dan terstruktur baik. Akan lebih baik jika ada penjelasan tambahan mengenai contoh interaksi API. \n\n**Soal 6**: Nilai: 7/10. Menyampaikan pengertian tentang pemrograman paralel dan multithreading dengan cukup baik, namun kurang memberikan contoh konkret, serta tantangan yang lebih jelas dalam implementasinya. \n\n**Soal 7**: Nilai: 8/10. Jawaban baik dalam menjelaskan pentingnya keamanan dalam pemrograman, lengkap dengan beberapa praktik baik, namun mungkin bisa memperdalam menjelaskan tipe-tipe serangan yang lebih spesifik. \n\n**Soal 8**: Nilai: 8/10. Penjelasan mengenai VCS dan Git sudah baik dan cukup lengkap, walaupun bisa disoroti lebih banyak fungsi atau fitur Git yang mendukung kolaborasi. \n\n**Soal 9**: Nilai: 9/10. Jawaban cukup kuat pada peran pemrograman dalam machine learning dengan contoh pustaka Python yang spesifik. Penjelasannya cukup mendalam dan jelas. \n\n**Soal 10**: Nilai: 8/10. Menjelaskan dengan baik tentang API dan tantangan dalam mendesainnya. Namun, bisa lebih mendalam dalam contoh spesifik dari masalah yang mungkin dihadapi. \n\n"
          },
          "metadata": {}
        },
        {
          "output_type": "stream",
          "name": "stdout",
          "text": [
            "\n",
            "FEEDBACK\n"
          ]
        },
        {
          "output_type": "display_data",
          "data": {
            "text/plain": [
              "<IPython.core.display.Markdown object>"
            ],
            "text/markdown": "Secara keseluruhan, jawaban ini menunjukkan pemahaman yang solid tentang berbagai aspek pemrograman yang dipertanyakan. Meskipun ada beberapa bagian yang bisa lebih mendalam atau terperinci, jawaban yang diberikan tetap relevan dan jelas serta mengikuti struktur yang baik. Penjelasan yang diberikan umumnya mudah dimengerti dan bermanfaat, tetapi penambahan contoh konkret dan elaborasi pada beberapa konsep dapat meningkatkan kualitas jawaban."
          },
          "metadata": {}
        },
        {
          "output_type": "stream",
          "name": "stdout",
          "text": [
            "\n",
            "SCORE\n"
          ]
        },
        {
          "output_type": "display_data",
          "data": {
            "text/plain": [
              "<IPython.core.display.Markdown object>"
            ],
            "text/markdown": "8.1"
          },
          "metadata": {}
        }
      ]
    },
    {
      "cell_type": "code",
      "source": [
        "print(\"Student 2\")\n",
        "print()\n",
        "student_answer = read_txt_file(\"/content/jawaban2.txt\")\n",
        "show_result(evaluate_essay(student_answer, reference_answer))"
      ],
      "metadata": {
        "colab": {
          "base_uri": "https://localhost:8080/",
          "height": 628
        },
        "id": "wNIrw8HCa0uC",
        "outputId": "7ed8f020-4454-43ff-b169-47117441fca8"
      },
      "execution_count": 54,
      "outputs": [
        {
          "output_type": "stream",
          "name": "stdout",
          "text": [
            "Student 2\n",
            "\n",
            "ASSESSMENT\n"
          ]
        },
        {
          "output_type": "display_data",
          "data": {
            "text/plain": [
              "<IPython.core.display.Markdown object>"
            ],
            "text/markdown": "**Soal 1**: Nilai: 5/10. Jawaban menjelaskan beberapa konsep dasar OOP seperti objek, inheritance, dan encapsulation, namun kurang mendalam dan tidak memberikan perbandingan yang jelas dengan paradigma prosedural. Contoh yang diberikan juga minim sehingga tidak cukup untuk memberi gambaran yang komprehensif.\n\n**Soal 2**: Nilai: 6/10. Jawaban menyatakan pentingnya algoritma dan struktur data, tetapi tidak memberikan contoh konkret atau mendalam yang menunjukkan bagaimana mereka mempengaruhi efisiensi program.\n\n**Soal 3**: Nilai: 6/10. Penjelasan mengenai perbedaan antara pemrograman fungsional dan OOP cukup jelas, namun kurang mendalam dalam menggambarkan kapan dan mengapa salah satu paradigma lebih baik dari yang lain.\n\n**Soal 4**: Nilai: 6/10. Jawaban mencakup definisi dasar tentang error handling dan debugging, tetapi argumentasi bisa lebih dalam dengan contoh spesifik yang menunjukkan aplikasi konsep tersebut.\n\n**Soal 5**: Nilai: 7/10. Menjelaskan esensi frontend dan backend dengan baik, tetapi masih kurang dalam memberikan contoh spesifik atau menjelaskan bagaimana API berfungsi dalam konteks arsitektur web.\n\n**Soal 6**: Nilai: 6/10. Menyebutkan pemrograman paralel dan multithreading dengan benar, namun tidak memberikan penjelasan lebih lanjut tentang keuntungannya atau tantangannya.\n\n**Soal 7**: Nilai: 5/10. Menyentuh pentingnya keamanan, tetapi jawaban ini terlalu singkat dan tidak membahas praktik terbaik dengan detail.\n\n**Soal 8**: Nilai: 6/10. Menjelaskan fungsi VCS dan contoh Git cukup baik, tetapi tidak memberikan detail lebih lanjut tentang kelebihan Git dalam kolaborasi atau manajemen versi.\n\n**Soal 9**: Nilai: 6/10. Menyatakan aspek dasar pemrograman dalam machine learning dengan Python, tetapi kurang menjelaskan peran spesifik dari pustaka Python dalam konteks itu.\n\n**Soal 10**: Nilai: 6/10. Memberikan pengertian dasar tentang API, namun kurang rincian tentang tantangan dalam perancangan dan implementasi.\n"
          },
          "metadata": {}
        },
        {
          "output_type": "stream",
          "name": "stdout",
          "text": [
            "\n",
            "FEEDBACK\n"
          ]
        },
        {
          "output_type": "display_data",
          "data": {
            "text/plain": [
              "<IPython.core.display.Markdown object>"
            ],
            "text/markdown": "Jawaban menunjukkan pemahaman dasar tentang konsep-konsep penting dalam pemrograman, namun banyak jawaban yang terasa cukup dangkal dan kurang mendalam. Meskipun ada penjelasan yang benar, kurangnya contoh konkret dan detail membuat banyak bagian tidak cukup mengesankan. Perlu pengembangan lebih lanjut terutama dalam menjelaskan konsep dan menjawab dengan lebih lengkap."
          },
          "metadata": {}
        },
        {
          "output_type": "stream",
          "name": "stdout",
          "text": [
            "\n",
            "SCORE\n"
          ]
        },
        {
          "output_type": "display_data",
          "data": {
            "text/plain": [
              "<IPython.core.display.Markdown object>"
            ],
            "text/markdown": "6.0"
          },
          "metadata": {}
        }
      ]
    },
    {
      "cell_type": "code",
      "source": [
        "print(\"Student 3\")\n",
        "print()\n",
        "student_answer = read_txt_file(\"/content/jawaban3.txt\")\n",
        "show_result(evaluate_essay(student_answer, reference_answer))"
      ],
      "metadata": {
        "colab": {
          "base_uri": "https://localhost:8080/",
          "height": 610
        },
        "id": "89cTK9Pcj6Hz",
        "outputId": "6f4c182b-5482-4ba7-8043-75b0d65d8e95"
      },
      "execution_count": 55,
      "outputs": [
        {
          "output_type": "stream",
          "name": "stdout",
          "text": [
            "Student 3\n",
            "\n",
            "ASSESSMENT\n"
          ]
        },
        {
          "output_type": "display_data",
          "data": {
            "text/plain": [
              "<IPython.core.display.Markdown object>"
            ],
            "text/markdown": "**Soal 1**: Nilai: 9/10. Jawaban sangat baik dan mencakup semua konsep utama OOP secara jelas. Penjelasan mengenai perbedaan dengan prosedural juga baik, tetapi contoh kasus bisa lebih spesifik untuk nilai lebih tinggi.\n\n**Soal 2**: Nilai: 8/10. Penjelasan tentang pentingnya algoritma dan struktur data sangat baik, ditunjang contoh yang relevan. Namun, penjabaran tentang efisiensi bisa lebih dilengkapi dengan lebih banyak contoh.\n\n**Soal 3**: Nilai: 8/10. Jawaban menyajikan perbedaan dengan jelas dan memberikan konteks penggunaan masing-masing paradigma. Meskipun ada penjelasan yang baik, penambahan contoh konkret akan meningkatkan kualitas jawaban.\n\n**Soal 4**: Nilai: 8/10. Penjelasan tentang penanganan kesalahan sangat tepat, berisi contoh jelas. Namun, bisa lebih diperluas dengan menjelaskan lebih banyak teknik debugging yang berbeda.\n\n**Soal 5**: Nilai: 9/10. Jawaban menjelaskan arsitektur modern dengan baik dan detail interaksi antara frontend dan backend. Penjelasan singkat bisa ditambahkan untuk menambah kedalaman.\n\n**Soal 6**: Nilai: 8/10. Penjelasan tentang pemrograman paralel dan multithreading baik, tetapi bisa lebih lengkap dengan contoh kasus nyata di mana keduanya diterapkan.\n\n**Soal 7**: Nilai: 9/10. Jawaban menyentuh semua titik penting mengenai keamanan dan praktik terbaiknya dengan baik dan jelas. Mungkin bisa disertakan contoh serangan agar lebih relevan.\n\n**Soal 8**: Nilai: 9/10. Jawaban menjelaskan pentingnya VCS dan penggunaan Git dengan jelas dan terstruktur. Mencakup banyak aspek penting tetapi bisa lebih mendalam tentang beberapa fitur Git yang lebih avancé.\n\n**Soal 9**: Nilai: 9/10. Penjelasan sangat baik dan terperinci, serta menyoroti peran Python dengan bagus. Contoh penggunaan pustaka dapat ditambahkan untuk mendemonstrasikan aplikasinya lebih lanjut.\n\n**Soal 10**: Nilai: 8/10. Jawaban memberikan pemahaman yang tepat tentang API meskipun tantangan dalam desain bisa lebih diperjelas dengan contoh konkret. \n"
          },
          "metadata": {}
        },
        {
          "output_type": "stream",
          "name": "stdout",
          "text": [
            "\n",
            "FEEDBACK\n"
          ]
        },
        {
          "output_type": "display_data",
          "data": {
            "text/plain": [
              "<IPython.core.display.Markdown object>"
            ],
            "text/markdown": "Jawaban ini menunjukkan pemahaman yang solid tentang berbagai konsep pemrograman. Meskipun ada beberapa bagian yang bisa lebih mendalam atau disertai contoh konkret, sebagian besar jawaban sangat relevan dengan pertanyaan dan disampaikan dengan bahasa yang jelas dan terstruktur."
          },
          "metadata": {}
        },
        {
          "output_type": "stream",
          "name": "stdout",
          "text": [
            "\n",
            "SCORE\n"
          ]
        },
        {
          "output_type": "display_data",
          "data": {
            "text/plain": [
              "<IPython.core.display.Markdown object>"
            ],
            "text/markdown": "8.5"
          },
          "metadata": {}
        }
      ]
    }
  ],
  "metadata": {
    "colab": {
      "provenance": []
    },
    "kernelspec": {
      "display_name": "Python 3",
      "name": "python3"
    },
    "language_info": {
      "name": "python"
    }
  },
  "nbformat": 4,
  "nbformat_minor": 0
}